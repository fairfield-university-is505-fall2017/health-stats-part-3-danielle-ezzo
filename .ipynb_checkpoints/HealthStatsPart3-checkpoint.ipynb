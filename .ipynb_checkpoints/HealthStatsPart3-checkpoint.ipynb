{
 "cells": [
  {
   "cell_type": "markdown",
   "metadata": {},
   "source": [
    "# Health Stats Part 2: Waist 2 Hip Ratios"
   ]
  },
  {
   "cell_type": "markdown",
   "metadata": {},
   "source": [
    "<!--- Write an explanation of the Waist To Hips Ratio statistic used by health professionals. Please include an explanation of what it is used for, exactly how it is calculated, and how to interpret the results. Note: Formmatting matters. Make this as professional as you can using Markdown.  --->\n",
    "EDIT THIS MARKDOWN CELL"
   ]
  },
  {
   "cell_type": "markdown",
   "metadata": {},
   "source": [
    "## Source Data "
   ]
  },
  {
   "cell_type": "markdown",
   "metadata": {},
   "source": [
    "<!--- Replace the text below with a Markdown bullet list that defines the columns of the CSV file. Be sure to indicate the data type for each column. --->\n",
    "EDIT THIS MARKDOWN CELL"
   ]
  },
  {
   "cell_type": "markdown",
   "metadata": {},
   "source": [
    "## Data Import"
   ]
  },
  {
   "cell_type": "code",
   "execution_count": 10,
   "metadata": {
    "collapsed": false
   },
   "outputs": [
    {
     "name": "stdout",
     "output_type": "stream",
     "text": [
      "[(1, 30.0, 32.0, b'M') (2, 32.0, 37.0, b'M') (3, 30.0, 36.0, b'M')\n",
      " (4, 33.0, 39.0, b'M') (5, 29.0, 33.0, b'M') (6, 32.0, 38.0, b'M')\n",
      " (7, 33.0, 42.0, b'M') (8, 30.0, 40.0, b'M') (9, 30.0, 37.0, b'M')\n",
      " (10, 32.0, 39.0, b'M') (11, 24.0, 35.0, b'F') (12, 25.0, 37.0, b'F')\n",
      " (13, 24.0, 37.0, b'F') (14, 22.0, 34.0, b'F') (15, 26.0, 38.0, b'F')\n",
      " (16, 26.0, 37.0, b'F') (17, 25.0, 38.0, b'F') (18, 26.0, 37.0, b'F')\n",
      " (19, 28.0, 40.0, b'F') (20, 23.0, 35.0, b'F')]\n"
     ]
    }
   ],
   "source": [
    "# Goal: Extract the data from the file\n",
    "import numpy as np\n",
    "rows = np.genfromtxt('w2h_data.csv',delimiter = ',',names = True ,dtype=[(\"ID\",int),(\"Waist\",float),(\"Hip\",float),(\"Gender\",\"S1\")] )\n",
    "print(rows)"
   ]
  },
  {
   "cell_type": "markdown",
   "metadata": {},
   "source": [
    "## Calculations"
   ]
  },
  {
   "cell_type": "code",
   "execution_count": 31,
   "metadata": {
    "collapsed": false
   },
   "outputs": [
    {
     "name": "stdout",
     "output_type": "stream",
     "text": [
      "[  9.37500000e-001   8.64864865e-001   8.33333333e-001   8.46153846e-001\n",
      "   8.78787879e-001  -2.89891186e-106   7.85714286e-001   7.50000000e-001\n",
      "   8.10810811e-001   8.20512821e-001   6.85714286e-001   6.75675676e-001\n",
      "   6.48648649e-001   6.47058824e-001   6.84210526e-001   7.02702703e-001\n",
      "   6.57894737e-001   7.02702703e-001   7.00000000e-001   6.57142857e-001]\n",
      "[(1, 30.0, 32.0, b'M') (2, 32.0, 37.0, b'M') (3, 30.0, 36.0, b'M')\n",
      " (4, 33.0, 39.0, b'M') (5, 29.0, 33.0, b'M')\n",
      " (0, 1.0785875024050166e-208, -3.720663322241693e-103, b'\\xaa')\n",
      " (7, 33.0, 42.0, b'M') (8, 30.0, 40.0, b'M') (9, 30.0, 37.0, b'M')\n",
      " (10, 32.0, 39.0, b'M') (11, 24.0, 35.0, b'F') (12, 25.0, 37.0, b'F')\n",
      " (13, 24.0, 37.0, b'F') (14, 22.0, 34.0, b'F') (15, 26.0, 38.0, b'F')\n",
      " (16, 26.0, 37.0, b'F') (17, 25.0, 38.0, b'F') (18, 26.0, 37.0, b'F')\n",
      " (19, 28.0, 40.0, b'F') (20, 23.0, 35.0, b'F')]\n"
     ]
    },
    {
     "ename": "TypeError",
     "evalue": "a bytes-like object is required, not 'str'",
     "output_type": "error",
     "traceback": [
      "\u001b[0;31m---------------------------------------------------------------------------\u001b[0m",
      "\u001b[0;31mTypeError\u001b[0m                                 Traceback (most recent call last)",
      "\u001b[0;32m<ipython-input-31-1996c1a2279a>\u001b[0m in \u001b[0;36m<module>\u001b[0;34m()\u001b[0m\n\u001b[1;32m     21\u001b[0m     \u001b[0mshape\u001b[0m \u001b[1;33m=\u001b[0m \u001b[1;34m\"Pear\"\u001b[0m\u001b[1;33m\u001b[0m\u001b[0m\n\u001b[1;32m     22\u001b[0m \u001b[1;33m\u001b[0m\u001b[0m\n\u001b[0;32m---> 23\u001b[0;31m \u001b[0mrows\u001b[0m\u001b[1;33m[\u001b[0m\u001b[1;36m1\u001b[0m\u001b[1;33m:\u001b[0m\u001b[1;33m]\u001b[0m\u001b[1;33m[\u001b[0m\u001b[1;36m5\u001b[0m\u001b[1;33m]\u001b[0m \u001b[1;33m=\u001b[0m \u001b[1;33m(\u001b[0m\u001b[0mshape\u001b[0m\u001b[1;33m)\u001b[0m\u001b[1;33m\u001b[0m\u001b[0m\n\u001b[0m\u001b[1;32m     24\u001b[0m \u001b[1;33m\u001b[0m\u001b[0m\n\u001b[1;32m     25\u001b[0m \u001b[0mprint\u001b[0m\u001b[1;33m(\u001b[0m\u001b[0mrows\u001b[0m\u001b[1;33m)\u001b[0m\u001b[1;33m\u001b[0m\u001b[0m\n",
      "\u001b[0;31mTypeError\u001b[0m: a bytes-like object is required, not 'str'"
     ]
    }
   ],
   "source": [
    "# Goal: For each row of data calculate and store the w2h_ratio and shape.\n",
    "\n",
    "\n",
    "# For each row in the rows list, calculate the waist to hips ratio and shape\n",
    "    # Calculate the w2h_ratio \n",
    "w2h_ratio = rows['Waist']/rows['Hip'] # FIX THIS; you will need to take care about data types\n",
    "#rows = np.append(rows, w2h_ratio)\n",
    "print(w2h_ratio)\n",
    "\n",
    "rows[1:][4] = (w2h_ratio)\n",
    "print(rows)\n",
    "    \n",
    "   \n",
    "   \n",
    "    \n",
    "    # Based on the ratio and the gender, set the variable shape to either 'apple' or 'pear'\n",
    "    #shape = 'Pear' # FIX THIS; you will need to use a conditional\n",
    "if ((rows['Gender']=='M' and rows['w2h_ratio'] > 0.9) or (rows['Gender'] == 'F' and rows['w2h_ratio'] > 0.8)) :\n",
    "    shape = \"Apple\"\n",
    "else:\n",
    "    shape = \"Pear\"\n",
    "    \n",
    "rows[1:][5] = (shape)\n",
    "    \n",
    "print(rows)\n",
    "    \n",
    "     "
   ]
  },
  {
   "cell_type": "markdown",
   "metadata": {},
   "source": [
    "## Output"
   ]
  },
  {
   "cell_type": "code",
   "execution_count": 13,
   "metadata": {
    "collapsed": false
   },
   "outputs": [
    {
     "data": {
      "text/html": [
       "<table><tr><th>ID</th><th>Waist</th><th>Hip</th><th>Gender</th><th>w2H_Ratio</th><th>Shape</th></tr><tr><td>1</td><td>30</td><td>32</td><td>M</td><td>0.9375</td><td>Apple</td></tr><tr><td>2</td><td>32</td><td>37</td><td>M</td><td>0.8648648648648649</td><td>Pear</td></tr><tr><td>3</td><td>30</td><td>36</td><td>M</td><td>0.8333333333333334</td><td>Pear</td></tr><tr><td>4</td><td>33</td><td>39</td><td>M</td><td>0.8461538461538461</td><td>Pear</td></tr><tr><td>5</td><td>29</td><td>33</td><td>M</td><td>0.8787878787878788</td><td>Pear</td></tr><tr><td>6</td><td>32</td><td>38</td><td>M</td><td>0.8421052631578947</td><td>Pear</td></tr><tr><td>7</td><td>33</td><td>42</td><td>M</td><td>0.7857142857142857</td><td>Pear</td></tr><tr><td>8</td><td>30</td><td>40</td><td>M</td><td>0.75</td><td>Pear</td></tr><tr><td>9</td><td>30</td><td>37</td><td>M</td><td>0.8108108108108109</td><td>Pear</td></tr><tr><td>10</td><td>32</td><td>39</td><td>M</td><td>0.8205128205128205</td><td>Pear</td></tr><tr><td>11</td><td>24</td><td>35</td><td>F</td><td>0.6857142857142857</td><td>Pear</td></tr><tr><td>12</td><td>25</td><td>37</td><td>F</td><td>0.6756756756756757</td><td>Pear</td></tr><tr><td>13</td><td>24</td><td>37</td><td>F</td><td>0.6486486486486487</td><td>Pear</td></tr><tr><td>14</td><td>22</td><td>34</td><td>F</td><td>0.6470588235294118</td><td>Pear</td></tr><tr><td>15</td><td>26</td><td>38</td><td>F</td><td>0.6842105263157895</td><td>Pear</td></tr><tr><td>16</td><td>26</td><td>37</td><td>F</td><td>0.7027027027027027</td><td>Pear</td></tr><tr><td>17</td><td>25</td><td>38</td><td>F</td><td>0.6578947368421053</td><td>Pear</td></tr><tr><td>18</td><td>26</td><td>37</td><td>F</td><td>0.7027027027027027</td><td>Pear</td></tr><tr><td>19</td><td>28</td><td>40</td><td>F</td><td>0.7</td><td>Pear</td></tr><tr><td>20</td><td>23</td><td>35</td><td>F</td><td>0.6571428571428571</td><td>Pear</td></tr></table>"
      ],
      "text/plain": [
       "<IPython.core.display.HTML object>"
      ]
     },
     "metadata": {},
     "output_type": "display_data"
    }
   ],
   "source": [
    "# Goal: pretty print the rows as an HTML table\n",
    "\n",
    "# Note: this works, but we can do this much better with pandas\n",
    "html_table = '<table><tr><th>'\n",
    "html_table += \"</th><th>\".join(rows[0].keys())\n",
    "html_table += '</th></tr>'\n",
    "for row in rows:\n",
    "    html_table += \"<tr><td>\"\n",
    "    html_table += \"</td><td>\".join(str(v) for v in row.values())\n",
    "    html_table += \"</td></tr>\"\n",
    "html_table += \"</table>\"\n",
    "\n",
    "from IPython.display import HTML, display\n",
    "display(HTML(html_table))"
   ]
  },
  {
   "cell_type": "code",
   "execution_count": null,
   "metadata": {
    "collapsed": true
   },
   "outputs": [],
   "source": []
  }
 ],
 "metadata": {
  "kernelspec": {
   "display_name": "Python 3",
   "language": "python",
   "name": "python3"
  },
  "language_info": {
   "codemirror_mode": {
    "name": "ipython",
    "version": 3
   },
   "file_extension": ".py",
   "mimetype": "text/x-python",
   "name": "python",
   "nbconvert_exporter": "python",
   "pygments_lexer": "ipython3",
   "version": "3.6.0"
  }
 },
 "nbformat": 4,
 "nbformat_minor": 2
}
